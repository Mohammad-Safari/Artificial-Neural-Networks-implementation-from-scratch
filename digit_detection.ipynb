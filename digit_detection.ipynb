{
 "cells": [
  {
   "cell_type": "code",
   "execution_count": 1,
   "metadata": {},
   "outputs": [],
   "source": [
    "import os\n",
    "import numpy as np\n",
    "from PIL import Image\n",
    "import matplotlib.pyplot as plt\n",
    "from tqdm import tqdm\n",
    "\n",
    "from model import Model\n",
    "from losses.binarycrossentropy import BinaryCrossEntropy\n",
    "from optimizers.gradientdescent import GD\n",
    "from optimizers.adam import Adam\n",
    "from activations import Sigmoid, ReLU, LinearActivation, Tanh\n",
    "from layers.fullyconnected import FC\n",
    "from layers.convolution2d import Conv2D\n",
    "from layers.maxpooling2d import MaxPool2D"
   ]
  },
  {
   "attachments": {},
   "cell_type": "markdown",
   "metadata": {},
   "source": [
    "# Define directories and files for training data"
   ]
  },
  {
   "cell_type": "code",
   "execution_count": 2,
   "metadata": {},
   "outputs": [],
   "source": [
    "\n",
    "DIR2, DIR5 = [\"./datasets/MNIST/\" + number + \"/\" for number in [\"2\", \"5\"]]\n",
    "FILES2, FILES5 = [\n",
    "    [dir + image_name for image_name in os.listdir(dir)] for dir in [DIR2, DIR5]\n",
    "]\n",
    "\n",
    "\n",
    "def load_image_data(path, label):\n",
    "    \"\"\"\n",
    "    Load image data from file path with corresponding label\n",
    "    \"\"\"\n",
    "    return (np.expand_dims(np.array(Image.open(path)) / 255.0, axis=-1), label)\n",
    "\n",
    "\n",
    "# Load and preprocess training data\n",
    "data = []\n",
    "for dataset, label in [(FILES2, 0), (FILES5, 1)]:\n",
    "    data += [load_image_data(image, label) for image in dataset]\n"
   ]
  },
  {
   "attachments": {},
   "cell_type": "markdown",
   "metadata": {},
   "source": [
    "# Define neural network architecture"
   ]
  },
  {
   "cell_type": "code",
   "execution_count": 3,
   "metadata": {},
   "outputs": [],
   "source": [
    "# this model is more complicated and needs more epochs to fit\n",
    "\n",
    "# arch_model = {\n",
    "#     \"CONV1\": Conv2D(1, 2, name=\"CONV1\", kernel_size=(3, 3), stride=(1, 1), padding=(1, 1)),\n",
    "#     \"RELU1\": ReLU(),\n",
    "#     \"MAXPOOL1\": MaxPool2D(kernel_size=(2, 2), stride=(2, 2)),\n",
    "#     \"LINEAR1\": LinearActivation(),\n",
    "    \n",
    "#     \"CONV2\": Conv2D(2, 4, name=\"CONV2\", kernel_size=(3, 3), stride=(1, 1), padding=(1, 1)),\n",
    "#     \"SIGMOMID1\": Sigmoid(),\n",
    "#     \"MAXPOOL2\": MaxPool2D(kernel_size=(4, 4), stride=(4, 4)),\n",
    "#     \"LINEAR2\": LinearActivation(),\n",
    "    \n",
    "#     # \"CONV3\": Conv2D(4, 8, name=\"CONV3\", kernel_size=(3, 3), stride=(1, 1), padding=(1, 1)),\n",
    "#     # \"THANH1\": Tanh(),\n",
    "#     # # \n",
    "#     # # \"FC1\": FC(49 * 8, 16, \"FC1\"),\n",
    "#     # # \"ReLU2\": ReLU(),\n",
    "#     # # or\n",
    "#     # \"MAXPOOL3\": MaxPool2D(kernel_size=(2, 2), stride=(2, 2)),\n",
    "#     # \"LINEAR3\": LinearActivation(),\n",
    "    \n",
    "#     \"FC1\": FC(9 * 4, 16, \"FC1\"),\n",
    "#     \"ReLU2\": ReLU(),\n",
    "#     # \n",
    "#     \"FC2\": FC(16, 1, \"FC2\"),\n",
    "#     \"SIGMOMID2\": Sigmoid(),\n",
    "# }\n",
    "\n",
    "# a simpler model and faster to learn after debugging previous model weight changes \n",
    "# during 100-150 epochs on smaller subset of dataset\n",
    "arch_model = {\n",
    "    \"CONV1\": Conv2D(1, 2, name=\"CONV1\", kernel_size=(3, 3), stride=(1, 1), padding=(1, 1)),\n",
    "    \"RELU1\": ReLU(),\n",
    "    \"MAXPOOL1\":MaxPool2D(kernel_size=(2, 2), stride=(2, 2)),\n",
    "    \"LINEAR1\": LinearActivation(),\n",
    "    \n",
    "    \"CONV2\": Conv2D(2, 4, name=\"CONV2\", kernel_size=(3, 3), stride=(1, 1), padding=(1, 1)),\n",
    "    \"RELU2\": ReLU(),\n",
    "    \"MAXPOOL2\":MaxPool2D(kernel_size=(2, 2), stride=(2, 2)),\n",
    "    \"LINEAR2\": LinearActivation(),\n",
    "    \n",
    "    \"FC1\": FC(49*4, 16, \"FC1\"),\n",
    "    \"SIGMOMID1\": Sigmoid(),\n",
    "    \"FC2\": FC(16, 1, \"FC2\"),\n",
    "    \"SIGMOMID2\": Sigmoid(),\n",
    "}\n",
    "# Choose loss function and optimizer\n",
    "criterion, optimizer = BinaryCrossEntropy(), Adam(arch_model, learning_rate=0.01)\n",
    "# Define model and train\n",
    "number_detection_model = Model(arch_model, criterion, optimizer)\n"
   ]
  },
  {
   "attachments": {},
   "cell_type": "markdown",
   "metadata": {},
   "source": [
    "# train"
   ]
  },
  {
   "cell_type": "code",
   "execution_count": 4,
   "metadata": {},
   "outputs": [
    {
     "name": "stderr",
     "output_type": "stream",
     "text": [
      "  2%|▏         | 1/50 [00:21<17:44, 21.71s/it]"
     ]
    },
    {
     "name": "stdout",
     "output_type": "stream",
     "text": [
      "\n",
      "Epoch 1: train cost = 1.0443056668201132\n"
     ]
    },
    {
     "name": "stderr",
     "output_type": "stream",
     "text": [
      "  4%|▍         | 2/50 [00:43<17:27, 21.82s/it]"
     ]
    },
    {
     "name": "stdout",
     "output_type": "stream",
     "text": [
      "\n",
      "Epoch 2: train cost = 0.6855687705038291\n"
     ]
    },
    {
     "name": "stderr",
     "output_type": "stream",
     "text": [
      "  6%|▌         | 3/50 [01:05<17:06, 21.84s/it]"
     ]
    },
    {
     "name": "stdout",
     "output_type": "stream",
     "text": [
      "\n",
      "Epoch 3: train cost = 0.5282822804370131\n"
     ]
    },
    {
     "name": "stderr",
     "output_type": "stream",
     "text": [
      "  8%|▊         | 4/50 [01:27<16:43, 21.81s/it]"
     ]
    },
    {
     "name": "stdout",
     "output_type": "stream",
     "text": [
      "\n",
      "Epoch 4: train cost = 0.5782449860949067\n"
     ]
    },
    {
     "name": "stderr",
     "output_type": "stream",
     "text": [
      " 10%|█         | 5/50 [01:46<15:48, 21.07s/it]"
     ]
    },
    {
     "name": "stdout",
     "output_type": "stream",
     "text": [
      "\n",
      "Epoch 5: train cost = 0.5633027563619194\n"
     ]
    },
    {
     "name": "stderr",
     "output_type": "stream",
     "text": [
      " 12%|█▏        | 6/50 [02:11<16:12, 22.10s/it]"
     ]
    },
    {
     "name": "stdout",
     "output_type": "stream",
     "text": [
      "\n",
      "Epoch 6: train cost = 0.5268486515652698\n"
     ]
    },
    {
     "name": "stderr",
     "output_type": "stream",
     "text": [
      " 14%|█▍        | 7/50 [02:32<15:37, 21.80s/it]"
     ]
    },
    {
     "name": "stdout",
     "output_type": "stream",
     "text": [
      "\n",
      "Epoch 7: train cost = 0.49101347768133613\n"
     ]
    },
    {
     "name": "stderr",
     "output_type": "stream",
     "text": [
      " 16%|█▌        | 8/50 [02:53<15:05, 21.57s/it]"
     ]
    },
    {
     "name": "stdout",
     "output_type": "stream",
     "text": [
      "\n",
      "Epoch 8: train cost = 0.46819269533672553\n"
     ]
    },
    {
     "name": "stderr",
     "output_type": "stream",
     "text": [
      " 18%|█▊        | 9/50 [03:12<14:13, 20.83s/it]"
     ]
    },
    {
     "name": "stdout",
     "output_type": "stream",
     "text": [
      "\n",
      "Epoch 9: train cost = 0.4572617661662295\n"
     ]
    },
    {
     "name": "stderr",
     "output_type": "stream",
     "text": [
      " 20%|██        | 10/50 [03:32<13:36, 20.41s/it]"
     ]
    },
    {
     "name": "stdout",
     "output_type": "stream",
     "text": [
      "\n",
      "Epoch 10: train cost = 0.4306129810344417\n"
     ]
    },
    {
     "name": "stderr",
     "output_type": "stream",
     "text": [
      " 22%|██▏       | 11/50 [03:51<13:02, 20.06s/it]"
     ]
    },
    {
     "name": "stdout",
     "output_type": "stream",
     "text": [
      "\n",
      "Epoch 11: train cost = 0.41766441191275955\n"
     ]
    },
    {
     "name": "stderr",
     "output_type": "stream",
     "text": [
      " 24%|██▍       | 12/50 [04:12<12:52, 20.33s/it]"
     ]
    },
    {
     "name": "stdout",
     "output_type": "stream",
     "text": [
      "\n",
      "Epoch 12: train cost = 0.4041104823765513\n"
     ]
    },
    {
     "name": "stderr",
     "output_type": "stream",
     "text": [
      " 26%|██▌       | 13/50 [04:36<13:10, 21.38s/it]"
     ]
    },
    {
     "name": "stdout",
     "output_type": "stream",
     "text": [
      "\n",
      "Epoch 13: train cost = 0.3958483257935889\n"
     ]
    },
    {
     "name": "stderr",
     "output_type": "stream",
     "text": [
      " 28%|██▊       | 14/50 [04:58<13:01, 21.70s/it]"
     ]
    },
    {
     "name": "stdout",
     "output_type": "stream",
     "text": [
      "\n",
      "Epoch 14: train cost = 0.38390405841747977\n"
     ]
    },
    {
     "name": "stderr",
     "output_type": "stream",
     "text": [
      " 30%|███       | 15/50 [05:20<12:44, 21.84s/it]"
     ]
    },
    {
     "name": "stdout",
     "output_type": "stream",
     "text": [
      "\n",
      "Epoch 15: train cost = 0.37516125092494024\n"
     ]
    },
    {
     "name": "stderr",
     "output_type": "stream",
     "text": [
      " 32%|███▏      | 16/50 [05:44<12:46, 22.56s/it]"
     ]
    },
    {
     "name": "stdout",
     "output_type": "stream",
     "text": [
      "\n",
      "Epoch 16: train cost = 0.37223987837212097\n"
     ]
    },
    {
     "name": "stderr",
     "output_type": "stream",
     "text": [
      " 34%|███▍      | 17/50 [06:06<12:11, 22.15s/it]"
     ]
    },
    {
     "name": "stdout",
     "output_type": "stream",
     "text": [
      "\n",
      "Epoch 17: train cost = 0.3645772421306144\n"
     ]
    },
    {
     "name": "stderr",
     "output_type": "stream",
     "text": [
      " 36%|███▌      | 18/50 [06:29<12:03, 22.62s/it]"
     ]
    },
    {
     "name": "stdout",
     "output_type": "stream",
     "text": [
      "\n",
      "Epoch 18: train cost = 0.3600957355501418\n"
     ]
    },
    {
     "name": "stderr",
     "output_type": "stream",
     "text": [
      " 38%|███▊      | 19/50 [06:52<11:41, 22.63s/it]"
     ]
    },
    {
     "name": "stdout",
     "output_type": "stream",
     "text": [
      "\n",
      "Epoch 19: train cost = 0.35148290988627434\n"
     ]
    },
    {
     "name": "stderr",
     "output_type": "stream",
     "text": [
      " 40%|████      | 20/50 [07:13<11:08, 22.27s/it]"
     ]
    },
    {
     "name": "stdout",
     "output_type": "stream",
     "text": [
      "\n",
      "Epoch 20: train cost = 0.34539337061778125\n"
     ]
    },
    {
     "name": "stderr",
     "output_type": "stream",
     "text": [
      " 42%|████▏     | 21/50 [07:36<10:45, 22.27s/it]"
     ]
    },
    {
     "name": "stdout",
     "output_type": "stream",
     "text": [
      "\n",
      "Epoch 21: train cost = 0.3397003613473273\n"
     ]
    },
    {
     "name": "stderr",
     "output_type": "stream",
     "text": [
      " 44%|████▍     | 22/50 [07:59<10:31, 22.55s/it]"
     ]
    },
    {
     "name": "stdout",
     "output_type": "stream",
     "text": [
      "\n",
      "Epoch 22: train cost = 0.33305662199593283\n"
     ]
    },
    {
     "name": "stderr",
     "output_type": "stream",
     "text": [
      " 46%|████▌     | 23/50 [08:24<10:29, 23.32s/it]"
     ]
    },
    {
     "name": "stdout",
     "output_type": "stream",
     "text": [
      "\n",
      "Epoch 23: train cost = 0.3260756814183415\n"
     ]
    },
    {
     "name": "stderr",
     "output_type": "stream",
     "text": [
      " 48%|████▊     | 24/50 [08:49<10:20, 23.88s/it]"
     ]
    },
    {
     "name": "stdout",
     "output_type": "stream",
     "text": [
      "\n",
      "Epoch 24: train cost = 0.3210399789098228\n"
     ]
    },
    {
     "name": "stderr",
     "output_type": "stream",
     "text": [
      " 50%|█████     | 25/50 [09:14<10:03, 24.15s/it]"
     ]
    },
    {
     "name": "stdout",
     "output_type": "stream",
     "text": [
      "\n",
      "Epoch 25: train cost = 0.3143907902148792\n"
     ]
    },
    {
     "name": "stderr",
     "output_type": "stream",
     "text": [
      " 52%|█████▏    | 26/50 [09:36<09:23, 23.47s/it]"
     ]
    },
    {
     "name": "stdout",
     "output_type": "stream",
     "text": [
      "\n",
      "Epoch 26: train cost = 0.3053877872117032\n"
     ]
    },
    {
     "name": "stderr",
     "output_type": "stream",
     "text": [
      " 54%|█████▍    | 27/50 [09:59<08:57, 23.39s/it]"
     ]
    },
    {
     "name": "stdout",
     "output_type": "stream",
     "text": [
      "\n",
      "Epoch 27: train cost = 0.2985163044141117\n"
     ]
    },
    {
     "name": "stderr",
     "output_type": "stream",
     "text": [
      " 56%|█████▌    | 28/50 [10:22<08:33, 23.35s/it]"
     ]
    },
    {
     "name": "stdout",
     "output_type": "stream",
     "text": [
      "\n",
      "Epoch 28: train cost = 0.294071956312897\n"
     ]
    },
    {
     "name": "stderr",
     "output_type": "stream",
     "text": [
      " 58%|█████▊    | 29/50 [10:45<08:03, 23.01s/it]"
     ]
    },
    {
     "name": "stdout",
     "output_type": "stream",
     "text": [
      "\n",
      "Epoch 29: train cost = 0.28856796183734373\n"
     ]
    },
    {
     "name": "stderr",
     "output_type": "stream",
     "text": [
      " 60%|██████    | 30/50 [11:08<07:43, 23.19s/it]"
     ]
    },
    {
     "name": "stdout",
     "output_type": "stream",
     "text": [
      "\n",
      "Epoch 30: train cost = 0.28562276105186896\n"
     ]
    },
    {
     "name": "stderr",
     "output_type": "stream",
     "text": [
      " 62%|██████▏   | 31/50 [11:32<07:25, 23.45s/it]"
     ]
    },
    {
     "name": "stdout",
     "output_type": "stream",
     "text": [
      "\n",
      "Epoch 31: train cost = 0.2766246408553499\n"
     ]
    },
    {
     "name": "stderr",
     "output_type": "stream",
     "text": [
      " 64%|██████▍   | 32/50 [11:56<07:02, 23.49s/it]"
     ]
    },
    {
     "name": "stdout",
     "output_type": "stream",
     "text": [
      "\n",
      "Epoch 32: train cost = 0.2679068832788311\n"
     ]
    },
    {
     "name": "stderr",
     "output_type": "stream",
     "text": [
      " 66%|██████▌   | 33/50 [12:20<06:41, 23.63s/it]"
     ]
    },
    {
     "name": "stdout",
     "output_type": "stream",
     "text": [
      "\n",
      "Epoch 33: train cost = 0.2659830960208609\n"
     ]
    },
    {
     "name": "stderr",
     "output_type": "stream",
     "text": [
      " 68%|██████▊   | 34/50 [12:41<06:06, 22.93s/it]"
     ]
    },
    {
     "name": "stdout",
     "output_type": "stream",
     "text": [
      "\n",
      "Epoch 34: train cost = 0.25924592951395115\n"
     ]
    },
    {
     "name": "stderr",
     "output_type": "stream",
     "text": [
      " 70%|███████   | 35/50 [13:04<05:44, 22.96s/it]"
     ]
    },
    {
     "name": "stdout",
     "output_type": "stream",
     "text": [
      "\n",
      "Epoch 35: train cost = 0.2560245391781965\n"
     ]
    },
    {
     "name": "stderr",
     "output_type": "stream",
     "text": [
      " 72%|███████▏  | 36/50 [13:26<05:17, 22.64s/it]"
     ]
    },
    {
     "name": "stdout",
     "output_type": "stream",
     "text": [
      "\n",
      "Epoch 36: train cost = 0.25050096033551794\n"
     ]
    },
    {
     "name": "stderr",
     "output_type": "stream",
     "text": [
      " 74%|███████▍  | 37/50 [13:49<04:57, 22.88s/it]"
     ]
    },
    {
     "name": "stdout",
     "output_type": "stream",
     "text": [
      "\n",
      "Epoch 37: train cost = 0.2474510014974447\n"
     ]
    },
    {
     "name": "stderr",
     "output_type": "stream",
     "text": [
      " 76%|███████▌  | 38/50 [14:13<04:36, 23.06s/it]"
     ]
    },
    {
     "name": "stdout",
     "output_type": "stream",
     "text": [
      "\n",
      "Epoch 38: train cost = 0.24381881255814888\n"
     ]
    },
    {
     "name": "stderr",
     "output_type": "stream",
     "text": [
      " 78%|███████▊  | 39/50 [14:34<04:08, 22.62s/it]"
     ]
    },
    {
     "name": "stdout",
     "output_type": "stream",
     "text": [
      "\n",
      "Epoch 39: train cost = 0.23995893913410193\n"
     ]
    },
    {
     "name": "stderr",
     "output_type": "stream",
     "text": [
      " 80%|████████  | 40/50 [14:56<03:43, 22.34s/it]"
     ]
    },
    {
     "name": "stdout",
     "output_type": "stream",
     "text": [
      "\n",
      "Epoch 40: train cost = 0.2384510485361779\n"
     ]
    },
    {
     "name": "stderr",
     "output_type": "stream",
     "text": [
      " 82%|████████▏ | 41/50 [15:20<03:26, 22.90s/it]"
     ]
    },
    {
     "name": "stdout",
     "output_type": "stream",
     "text": [
      "\n",
      "Epoch 41: train cost = 0.23479105961168534\n"
     ]
    },
    {
     "name": "stderr",
     "output_type": "stream",
     "text": [
      " 84%|████████▍ | 42/50 [15:45<03:08, 23.51s/it]"
     ]
    },
    {
     "name": "stdout",
     "output_type": "stream",
     "text": [
      "\n",
      "Epoch 42: train cost = 0.23356762212458582\n"
     ]
    },
    {
     "name": "stderr",
     "output_type": "stream",
     "text": [
      " 86%|████████▌ | 43/50 [16:07<02:40, 22.95s/it]"
     ]
    },
    {
     "name": "stdout",
     "output_type": "stream",
     "text": [
      "\n",
      "Epoch 43: train cost = 0.22677204805944987\n"
     ]
    },
    {
     "name": "stderr",
     "output_type": "stream",
     "text": [
      " 88%|████████▊ | 44/50 [16:31<02:19, 23.24s/it]"
     ]
    },
    {
     "name": "stdout",
     "output_type": "stream",
     "text": [
      "\n",
      "Epoch 44: train cost = 0.22491406725678162\n"
     ]
    },
    {
     "name": "stderr",
     "output_type": "stream",
     "text": [
      " 90%|█████████ | 45/50 [16:53<01:53, 22.80s/it]"
     ]
    },
    {
     "name": "stdout",
     "output_type": "stream",
     "text": [
      "\n",
      "Epoch 45: train cost = 0.22116240707360443\n"
     ]
    },
    {
     "name": "stderr",
     "output_type": "stream",
     "text": [
      " 92%|█████████▏| 46/50 [17:15<01:30, 22.56s/it]"
     ]
    },
    {
     "name": "stdout",
     "output_type": "stream",
     "text": [
      "\n",
      "Epoch 46: train cost = 0.21765131954590025\n"
     ]
    },
    {
     "name": "stderr",
     "output_type": "stream",
     "text": [
      " 94%|█████████▍| 47/50 [17:34<01:04, 21.54s/it]"
     ]
    },
    {
     "name": "stdout",
     "output_type": "stream",
     "text": [
      "\n",
      "Epoch 47: train cost = 0.21440763344059868\n"
     ]
    },
    {
     "name": "stderr",
     "output_type": "stream",
     "text": [
      " 96%|█████████▌| 48/50 [17:53<00:41, 20.88s/it]"
     ]
    },
    {
     "name": "stdout",
     "output_type": "stream",
     "text": [
      "\n",
      "Epoch 48: train cost = 0.21172928794828394\n"
     ]
    },
    {
     "name": "stderr",
     "output_type": "stream",
     "text": [
      " 98%|█████████▊| 49/50 [18:16<00:21, 21.41s/it]"
     ]
    },
    {
     "name": "stdout",
     "output_type": "stream",
     "text": [
      "\n",
      "Epoch 49: train cost = 0.21006957929044656\n"
     ]
    },
    {
     "name": "stderr",
     "output_type": "stream",
     "text": [
      "100%|██████████| 50/50 [18:37<00:00, 22.35s/it]"
     ]
    },
    {
     "name": "stdout",
     "output_type": "stream",
     "text": [
      "\n",
      "Epoch 50: train cost = 0.20831774746970214\n"
     ]
    },
    {
     "name": "stderr",
     "output_type": "stream",
     "text": [
      "\n"
     ]
    },
    {
     "data": {
      "image/png": "[encoded data removed]",
      "text/plain": [
       "<Figure size 640x480 with 1 Axes>"
      ]
     },
     "metadata": {},
     "output_type": "display_data"
    }
   ],
   "source": [
    "batch_size, data_length = 40, len(data)\n",
    "input, output = zip(*data)\n",
    "input, output = np.array(input), np.array(output).reshape(1,-1)\n",
    "costs, vals = number_detection_model.train(\n",
    "    np.concatenate((input[0:500], input[-500:])), np.concatenate((output[:,0:500], output[:,-500:]), axis=1),\n",
    "    # input, output,\n",
    "    epochs=50, batch_size=batch_size,\n",
    "    # val=(np.concatenate((input[500:700], input[-700:-501])), np.concatenate((output[:,500:700], output[:,-700:-501]), axis=1)),\n",
    "    # val=None,\n",
    "    shuffling=False,\n",
    "    verbose=1, save_after='num_detect_model_adam')\n",
    "plt.plot(costs)\n",
    "plt.show()"
   ]
  },
  {
   "attachments": {},
   "cell_type": "markdown",
   "metadata": {},
   "source": [
    "# Evaluate on a sample batch of data"
   ]
  },
  {
   "cell_type": "code",
   "execution_count": 5,
   "metadata": {},
   "outputs": [
    {
     "data": {
      "image/png": "[encoded data removed]",
      "text/plain": [
       "<Figure size 800x800 with 4 Axes>"
      ]
     },
     "metadata": {},
     "output_type": "display_data"
    }
   ],
   "source": [
    "items = list(range(data_length))\n",
    "np.random.shuffle(items)\n",
    "items = items[0:4]\n",
    "\n",
    "X, gt = input[items,:,:,:], output[:,items]\n",
    "Y = number_detection_model.predict(X)\n",
    "\n",
    "\n",
    "# Plot predictions vs ground truth[label 0 for 2s and 1 for 5s]\n",
    "no = 0\n",
    "fig, ax = plt.subplots(2, 2, figsize=(8, 8))\n",
    "for i in range(2):\n",
    "    for j in range(2):\n",
    "        ax[i, j].imshow(X[no].reshape(28, 28), cmap=\"gray\")\n",
    "        ax[i, j].set_title(f\"{Y[:, no]} vs {gt[:, no]}\")\n",
    "        no += 1\n",
    "        \n",
    "plt.show()"
   ]
  }
 ],
 "metadata": {
  "kernelspec": {
   "display_name": ".venv",
   "language": "python",
   "name": "python3"
  },
  "language_info": {
   "codemirror_mode": {
    "name": "ipython",
    "version": 3
   },
   "file_extension": ".py",
   "mimetype": "text/x-python",
   "name": "python",
   "nbconvert_exporter": "python",
   "pygments_lexer": "ipython3",
   "version": "3.10.11"
  },
  "orig_nbformat": 4
 },
 "nbformat": 4,
 "nbformat_minor": 2
}
